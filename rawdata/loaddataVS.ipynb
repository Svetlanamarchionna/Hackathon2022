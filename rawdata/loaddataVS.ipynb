{
 "cells": [
  {
   "cell_type": "code",
   "execution_count": 1,
   "metadata": {},
   "outputs": [],
   "source": [
    "import csv\n",
    "\n",
    "with open('metadata.csv', 'r') as csv_file:\n",
    "    csv_reader = csv.reader(csv_file)\n",
    "\n",
    "    with open('new_metadata.csv', 'w') as new_file:\n",
    "        csv_writer = csv.writer(new_file, delimiter='\\t')\n",
    "\n",
    "        for line in csv_reader:\n",
    "            csv_writer.writerow(line)"
   ]
  }
 ],
 "metadata": {
  "interpreter": {
   "hash": "1072c2899cef7c487c94e01c2d81049a0f21f597e86d5204ebc86f6d676cdfc7"
  },
  "kernelspec": {
   "display_name": "Python 3.11.0a5 32-bit",
   "language": "python",
   "name": "python3"
  },
  "language_info": {
   "codemirror_mode": {
    "name": "ipython",
    "version": 3
   },
   "file_extension": ".py",
   "mimetype": "text/x-python",
   "name": "python",
   "nbconvert_exporter": "python",
   "pygments_lexer": "ipython3",
   "version": "3.9.10"
  },
  "orig_nbformat": 4
 },
 "nbformat": 4,
 "nbformat_minor": 2
}

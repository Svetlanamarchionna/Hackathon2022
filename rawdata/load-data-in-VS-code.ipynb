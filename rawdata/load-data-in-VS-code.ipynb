{
 "cells": [
  {
   "cell_type": "code",
   "execution_count": 38,
   "metadata": {},
   "outputs": [],
   "source": [
    "import csv\n",
    "\n",
    "with open('metadata.csv', 'r') as csv_file:\n",
    "    csv_reader = csv.DictReader(csv_file)\n",
    "\n",
    "    with open('new_metadata.csv', 'w') as new_file:\n",
    "        fieldnames = ['content_id', 'doi', 'name', 'content_type', 'item_type', 'creator','publish_timestamp', 'created','last_modified', 'primary_creator', 'resource_sub_type', 'resource_type', 'publisher_name', 'journal', 'publish_date_string', 'book_title', 'book_subtitle', 'container_name', 'collection_name', 'iiif_url', 'download_size', 'width', 'height', 'page_image_url', 'platform_metadata', 'hierarchy']\n",
    "       \n",
    "        csv_writer = csv.DictWriter(new_file, fieldnames=fieldnames, delimiter='\\t')\n",
    "\n",
    "        csv_writer.writeheader()\n",
    "\n",
    "        for line in csv_reader:\n",
    "            csv_writer.writerow(line)"
   ]
  }
 ],
 "metadata": {
  "interpreter": {
   "hash": "ab11d259ee2340d2ddbf97dc122f7205df9bf74ac780480d7d8c9204da0c3140"
  },
  "kernelspec": {
   "display_name": "Python 3.9.7 ('base')",
   "language": "python",
   "name": "python3"
  },
  "language_info": {
   "codemirror_mode": {
    "name": "ipython",
    "version": 3
   },
   "file_extension": ".py",
   "mimetype": "text/x-python",
   "name": "python",
   "nbconvert_exporter": "python",
   "pygments_lexer": "ipython3",
   "version": "3.9.10"
  },
  "orig_nbformat": 4
 },
 "nbformat": 4,
 "nbformat_minor": 2
}
